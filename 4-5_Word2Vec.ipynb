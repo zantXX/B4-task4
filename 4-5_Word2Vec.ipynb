{
 "cells": [
  {
   "cell_type": "code",
   "execution_count": 3,
   "metadata": {},
   "outputs": [],
   "source": [
    "%matplotlib inline\n",
    "import matplotlib.pyplot as plt\n",
    "from IPython import display\n",
    "import time\n",
    "import os\n",
    "\n",
    "# proxyの設定．\n",
    "# keras.datasetsでは，datasetを直接ダウンロードするので，学内マシンからは通常必要．\n",
    "os.environ[\"http_proxy\"] = \"http://proxy.uec.ac.jp:8080/\"\n",
    "os.environ[\"https_proxy\"] = \"http://proxy.uec.ac.jp:8080/\"\n",
    "os.environ[\"CUDA_VISIBLE_DEVICES\"] = \"0,1\"      # \"0\":GPU0, \"1\":GPU1, \"0,1\":GPUを2つとも使用\n",
    "\n",
    "import numpy as np\n",
    "import torch\n",
    "import torchvision\n",
    "import torch.nn as nn\n",
    "import torch.optim as optim\n",
    "import torch.nn.functional as F\n",
    "\n",
    "from skimage import feature,filters\n",
    "from PIL import Image\n",
    "import sys\n",
    "\n",
    "import cv2\n",
    "\n",
    "\n",
    "import torchvision.models as models\n",
    "import pickle\n",
    "import glob\n"
   ]
  },
  {
   "cell_type": "markdown",
   "metadata": {},
   "source": [
    "### Word2Vec\n",
    "from https://radimrehurek.com/gensim/models/word2vec.html"
   ]
  },
  {
   "cell_type": "code",
   "execution_count": 6,
   "metadata": {},
   "outputs": [],
   "source": [
    "import gensim.downloader\n",
    "glove_vectors = gensim.downloader.load('glove-twitter-25')"
   ]
  },
  {
   "cell_type": "code",
   "execution_count": 7,
   "metadata": {},
   "outputs": [
    {
     "data": {
      "text/plain": [
       "[('facebook', 0.948005199432373),\n",
       " ('tweet', 0.9403423070907593),\n",
       " ('fb', 0.9342358708381653),\n",
       " ('instagram', 0.9104824066162109),\n",
       " ('chat', 0.8964964747428894),\n",
       " ('hashtag', 0.8885936737060547),\n",
       " ('tweets', 0.8878158330917358),\n",
       " ('tl', 0.8778461813926697),\n",
       " ('link', 0.877821147441864),\n",
       " ('internet', 0.8753896355628967)]"
      ]
     },
     "execution_count": 7,
     "metadata": {},
     "output_type": "execute_result"
    }
   ],
   "source": [
    "glove_vectors.most_similar('twitter')"
   ]
  },
  {
   "cell_type": "code",
   "execution_count": 8,
   "metadata": {},
   "outputs": [
    {
     "name": "stdout",
     "output_type": "stream",
     "text": [
      "[('truck', 0.9217724204063416), ('cab', 0.9050741791725159), ('parked', 0.896484911441803), ('passenger', 0.8858598470687866), ('wheelchair', 0.8818767070770264)]\n"
     ]
    }
   ],
   "source": [
    "print(glove_vectors.most_similar(positive=['car', 'minivan'], topn=5))"
   ]
  },
  {
   "cell_type": "code",
   "execution_count": 18,
   "metadata": {},
   "outputs": [
    {
     "name": "stdout",
     "output_type": "stream",
     "text": [
      "[('coffee', 0.9626291394233704), ('tea', 0.9378739595413208), ('fresh', 0.9336839318275452), ('drink', 0.9317469000816345), ('wine', 0.9269990921020508)]\n"
     ]
    }
   ],
   "source": [
    "print(glove_vectors.most_similar(positive=['food', 'ice'], topn=5))"
   ]
  },
  {
   "cell_type": "code",
   "execution_count": 19,
   "metadata": {},
   "outputs": [
    {
     "name": "stdout",
     "output_type": "stream",
     "text": [
      "[('checked-in', 0.7990305423736572), ('youtube動画', 0.7680096626281738), ('onair', 0.7605177760124207), ('girlsnews', 0.7527560591697693), ('unapologetic', 0.734562337398529)]\n"
     ]
    }
   ],
   "source": [
    "print(glove_vectors.most_similar(positive=['wheels'],negative=['tires'], topn=5))"
   ]
  },
  {
   "cell_type": "code",
   "execution_count": 11,
   "metadata": {},
   "outputs": [
    {
     "name": "stdout",
     "output_type": "stream",
     "text": [
      "[('singer', 0.8391141295433044), ('billionaire', 0.8246709108352661), ('musician', 0.8239553570747375), ('filmmaker', 0.8209230899810791), ('celebrity', 0.8148869276046753)]\n"
     ]
    }
   ],
   "source": [
    "print(glove_vectors.most_similar(positive=[\"woman\", \"actress\"], negative=[\"man\"], topn=5))"
   ]
  },
  {
   "cell_type": "code",
   "execution_count": 12,
   "metadata": {
    "scrolled": true
   },
   "outputs": [
    {
     "name": "stdout",
     "output_type": "stream",
     "text": [
      "[('buss', 0.7854486107826233), ('hed', 0.7803241014480591), ('springer', 0.772042453289032), ('oj', 0.7681675553321838), ('morao', 0.765025794506073)]\n"
     ]
    }
   ],
   "source": [
    "print(glove_vectors.most_similar(positive=[\"man\", \"fireman\"], negative=[\"woman\"], topn=5))"
   ]
  },
  {
   "cell_type": "markdown",
   "metadata": {},
   "source": [
    "Twitterからのデータだからなのかわからないが、思ったような計算結果にならないこともあった。昔の男女を区別する職業の言い方は差別的で最近は話されないのかもしれない。案外簡単に実装はできるので、面白いなと感じた。"
   ]
  }
 ],
 "metadata": {
  "kernelspec": {
   "display_name": "Python 3",
   "language": "python",
   "name": "python3"
  },
  "language_info": {
   "codemirror_mode": {
    "name": "ipython",
    "version": 3
   },
   "file_extension": ".py",
   "mimetype": "text/x-python",
   "name": "python",
   "nbconvert_exporter": "python",
   "pygments_lexer": "ipython3",
   "version": "3.7.6"
  }
 },
 "nbformat": 4,
 "nbformat_minor": 4
}
